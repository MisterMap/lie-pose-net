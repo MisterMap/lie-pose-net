{
 "cells": [
  {
   "cell_type": "code",
   "execution_count": 91,
   "metadata": {},
   "outputs": [],
   "source": [
    "from minisam import *\n",
    "import numpy as np\n",
    "import liegroups.numpy\n",
    "import plotly.graph_objects as go\n",
    "import matplotlib.pyplot as plt\n",
    "from scipy.spatial.transform import Rotation"
   ]
  },
  {
   "cell_type": "code",
   "execution_count": 90,
   "metadata": {},
   "outputs": [],
   "source": [
    "def quaternion_angular_error(q1, q2):\n",
    "    \"\"\"\n",
    "    angular error between two quaternions\n",
    "    :param q1: (4, )\n",
    "    :param q2: (4, )\n",
    "    :return:\n",
    "    \"\"\"\n",
    "    d = abs(np.dot(q1, q2))\n",
    "    d = min(1.0, max(-1.0, d))\n",
    "    theta = 2 * np.arccos(d) * 180 / np.pi\n",
    "    return theta"
   ]
  },
  {
   "cell_type": "code",
   "execution_count": 125,
   "metadata": {},
   "outputs": [],
   "source": [
    "def rotation_error(truth_rotation, predicted_rotation, is_print=True):\n",
    "    rotation_errors = [quaternion_angular_error(q1, q2) for q1, q2 in zip(truth_rotation, predicted_rotation)]\n",
    "    rotation_errors = np.array(rotation_errors)\n",
    "    if is_print:\n",
    "        print(\"Mean rotation error: {}\".format(np.mean(rotation_errors)))\n",
    "        print(\"Median rotation error: {}\".format(np.median(rotation_errors)))\n",
    "    return np.mean(rotation_errors), np.median(rotation_errors)"
   ]
  },
  {
   "cell_type": "code",
   "execution_count": 44,
   "metadata": {},
   "outputs": [],
   "source": [
    "def make_lines(markers1, markers2):\n",
    "    result = []\n",
    "    for x1, x2 in zip(markers1, markers2):\n",
    "        result.append(x1)\n",
    "        result.append(x2)\n",
    "        result.append(None)\n",
    "    return result"
   ]
  },
  {
   "cell_type": "code",
   "execution_count": 45,
   "metadata": {},
   "outputs": [],
   "source": [
    "def show_trajectories(shown_truth_trajectory, shown_predicted_trajectory):\n",
    "    fig = go.Figure(\n",
    "        data=[\n",
    "            go.Scatter3d(x=shown_truth_trajectory[:, 0],\n",
    "                         y=shown_truth_trajectory[:, 1], \n",
    "                         z=shown_truth_trajectory[:, 2],\n",
    "                         mode=\"markers\",\n",
    "                         name=\"truth\",\n",
    "                         marker={\n",
    "                             \"size\": 2\n",
    "                         }),\n",
    "            go.Scatter3d(x=shown_predicted_trajectory[:, 0],\n",
    "                         y=shown_predicted_trajectory[:, 1],\n",
    "                         z=shown_predicted_trajectory[:, 2],\n",
    "                         mode=\"markers\",\n",
    "                         name=\"predicted\",\n",
    "                         marker={\n",
    "                             \"size\": 2\n",
    "                         }),\n",
    "            go.Scatter3d(x=make_lines(shown_truth_trajectory[:, 0], shown_predicted_trajectory[:, 0]),\n",
    "                         y=make_lines(shown_truth_trajectory[:, 1], shown_predicted_trajectory[:, 1]),\n",
    "                         z=make_lines(shown_truth_trajectory[:, 2], shown_predicted_trajectory[:, 2]),\n",
    "                         mode=\"lines\",\n",
    "                         name=\"errors\")\n",
    "        ]\n",
    "    )\n",
    "    fig.show()"
   ]
  },
  {
   "cell_type": "code",
   "execution_count": 46,
   "metadata": {},
   "outputs": [],
   "source": [
    "def se3_position(position):\n",
    "    position = position.astype(np.float64)\n",
    "    u, d, v = np.linalg.svd(position[:3, :3])\n",
    "    position[:3, :3] = u @ v\n",
    "    return SE3(position)"
   ]
  },
  {
   "cell_type": "markdown",
   "metadata": {},
   "source": [
    "# Load data"
   ]
  },
  {
   "cell_type": "code",
   "execution_count": 194,
   "metadata": {},
   "outputs": [],
   "source": [
    "data = np.load(\"../metrics/chess_trajectories.npy\", allow_pickle=True).item()\n",
    "mean_matrix = data[\"mean_matrix\"].astype(np.float64)[:1000]\n",
    "truth_position = data[\"truth_position\"].astype(np.float64)[:1000]\n",
    "truth_rotation = data[\"truth_rotation\"].astype(np.float64)[:1000]\n",
    "predicted_position = data[\"predicted_position\"].astype(np.float64)[:1000]\n",
    "predicted_rotation = data[\"predicted_rotation\"].astype(np.float64)[:1000]\n",
    "inverse_sigma_matrix = data[\"inverse_sigma_matrix\"].astype(np.float64)[:1000]"
   ]
  },
  {
   "cell_type": "markdown",
   "metadata": {},
   "source": [
    "# Position graph optimization"
   ]
  },
  {
   "cell_type": "code",
   "execution_count": 195,
   "metadata": {},
   "outputs": [],
   "source": [
    "graph = FactorGraph()\n",
    "initials = Variables()\n",
    "\n",
    "for i in range(len(inverse_sigma_matrix)):\n",
    "    initials.add(key('x', i), se3_position(mean_matrix[i, 0]))\n",
    "    for j in range(len(inverse_sigma_matrix[i])):\n",
    "        priorLoss = GaussianLoss.SqrtInformation(inverse_sigma_matrix[i, j])\n",
    "        graph.add(PriorFactor(key('x', i), se3_position(mean_matrix[i, j]), priorLoss))\n",
    "    \n"
   ]
  },
  {
   "cell_type": "code",
   "execution_count": 196,
   "metadata": {},
   "outputs": [],
   "source": [
    "optimizer_param = LevenbergMarquardtOptimizerParams()\n",
    "optimizer = LevenbergMarquardtOptimizer(optimizer_param)\n",
    "\n",
    "results = Variables()\n",
    "status = optimizer.optimize(graph, initials, results)\n",
    "if status != NonlinearOptimizationStatus.SUCCESS:\n",
    "    print(\"optimization error: \", status)"
   ]
  },
  {
   "cell_type": "code",
   "execution_count": 197,
   "metadata": {},
   "outputs": [],
   "source": [
    "optimized_matrix = [results.at(key(\"x\", i)).matrix() for i in range(len(mean_matrix))]\n",
    "optimized_matrix = np.array(optimized_matrix)\n",
    "optimized_trajectory = optimized_matrix[:, :3, 3]"
   ]
  },
  {
   "cell_type": "code",
   "execution_count": 198,
   "metadata": {},
   "outputs": [
    {
     "name": "stdout",
     "output_type": "stream",
     "text": [
      "Mean position error: 0.5619693373264548\n",
      "Median position error: 0.5467223106060313\n"
     ]
    }
   ],
   "source": [
    "position_errors = np.linalg.norm(truth_position - optimized_trajectory, axis=1)\n",
    "print(\"Mean position error: {}\".format(np.mean(position_errors)))\n",
    "print(\"Median position error: {}\".format(np.median(position_errors)))"
   ]
  },
  {
   "cell_type": "code",
   "execution_count": 199,
   "metadata": {},
   "outputs": [
    {
     "name": "stdout",
     "output_type": "stream",
     "text": [
      "Mean position error: 0.5581361830726659\n",
      "Median position error: 0.543152317718782\n"
     ]
    }
   ],
   "source": [
    "position_errors = np.linalg.norm(truth_position - predicted_position, axis=1)\n",
    "print(\"Mean position error: {}\".format(np.mean(position_errors)))\n",
    "print(\"Median position error: {}\".format(np.median(position_errors)))"
   ]
  },
  {
   "cell_type": "code",
   "execution_count": 200,
   "metadata": {},
   "outputs": [
    {
     "name": "stdout",
     "output_type": "stream",
     "text": [
      "Mean rotation error: 21.650836330215146\n",
      "Median rotation error: 18.801060796970987\n"
     ]
    },
    {
     "data": {
      "text/plain": [
       "(21.650836330215146, 18.801060796970987)"
      ]
     },
     "execution_count": 200,
     "metadata": {},
     "output_type": "execute_result"
    }
   ],
   "source": [
    "rotation_error(truth_rotation, Rotation.from_matrix(optimized_matrix[:, :3, :3]).as_quat())"
   ]
  },
  {
   "cell_type": "code",
   "execution_count": 201,
   "metadata": {},
   "outputs": [
    {
     "name": "stdout",
     "output_type": "stream",
     "text": [
      "Mean rotation error: 21.774547266281036\n",
      "Median rotation error: 19.099696336522985\n"
     ]
    },
    {
     "data": {
      "text/plain": [
       "(21.774547266281036, 19.099696336522985)"
      ]
     },
     "execution_count": 201,
     "metadata": {},
     "output_type": "execute_result"
    }
   ],
   "source": [
    "rotation_error(truth_rotation, predicted_rotation)"
   ]
  },
  {
   "cell_type": "code",
   "execution_count": 202,
   "metadata": {},
   "outputs": [],
   "source": [
    "means = []\n",
    "medians = []\n",
    "for j in range(mean_matrix.shape[1]):\n",
    "    mean, median = rotation_error(truth_rotation, Rotation.from_matrix(mean_matrix[:, j, :3, :3]).as_quat(), False)\n",
    "    means.append(mean)\n",
    "    medians.append(median)"
   ]
  },
  {
   "cell_type": "code",
   "execution_count": 203,
   "metadata": {},
   "outputs": [
    {
     "name": "stdout",
     "output_type": "stream",
     "text": [
      "[18.666654302871216, 18.960786332041575, 17.969412741877825, 18.065969733208156]\n"
     ]
    }
   ],
   "source": [
    "print(medians)"
   ]
  },
  {
   "cell_type": "markdown",
   "metadata": {},
   "source": [
    "# Beacon graph optimization"
   ]
  },
  {
   "cell_type": "code",
   "execution_count": 204,
   "metadata": {},
   "outputs": [],
   "source": [
    "def matrix_from_quaternion_translation(rotation, translation):\n",
    "    matrix = np.zeros((rotation.shape[0], 4, 4))\n",
    "    matrix[:, :3, :3] = Rotation.from_quat(rotation).as_matrix()\n",
    "    matrix[:, :3, 3] = translation\n",
    "    matrix[:, 3, 3] = 1\n",
    "    return matrix"
   ]
  },
  {
   "cell_type": "code",
   "execution_count": 205,
   "metadata": {},
   "outputs": [],
   "source": [
    "truth_matrix = matrix_from_quaternion_translation(truth_rotation, truth_position)"
   ]
  },
  {
   "cell_type": "code",
   "execution_count": 206,
   "metadata": {},
   "outputs": [],
   "source": [
    "graph = FactorGraph()\n",
    "initials = Variables()\n",
    "\n",
    "for j in range(mean_matrix.shape[1]):\n",
    "    initials.add(key('x', j), se3_position(np.eye(4)))\n",
    "\n",
    "for i in range(len(inverse_sigma_matrix)):\n",
    "    for j in range(len(inverse_sigma_matrix[i])):\n",
    "        priorLoss = GaussianLoss.SqrtInformation(inverse_sigma_matrix[i, j])\n",
    "        delta = truth_matrix[i] @ np.linalg.inv(mean_matrix[i, j])\n",
    "        graph.add(PriorFactor(key('x', j), se3_position(delta), priorLoss))"
   ]
  },
  {
   "cell_type": "code",
   "execution_count": 207,
   "metadata": {},
   "outputs": [
    {
     "name": "stdout",
     "output_type": "stream",
     "text": [
      "optimization error:  NonlinearOptimizationStatus.ERROR_INCREASE\n"
     ]
    }
   ],
   "source": [
    "optimizer_param = LevenbergMarquardtOptimizerParams()\n",
    "optimizer = LevenbergMarquardtOptimizer(optimizer_param)\n",
    "\n",
    "results = Variables()\n",
    "status = optimizer.optimize(graph, initials, results)\n",
    "if status != NonlinearOptimizationStatus.SUCCESS:\n",
    "    print(\"optimization error: \", status)"
   ]
  },
  {
   "cell_type": "code",
   "execution_count": 208,
   "metadata": {},
   "outputs": [],
   "source": [
    "deltas_matrix = [results.at(key(\"x\", i)).matrix() for i in range(mean_matrix.shape[1])]\n",
    "deltas_matrix = np.array(deltas_matrix)"
   ]
  },
  {
   "cell_type": "code",
   "execution_count": 209,
   "metadata": {},
   "outputs": [
    {
     "data": {
      "text/plain": [
       "array([[-0.106,  0.146, -0.036],\n",
       "       [-0.076, -0.05 , -0.04 ],\n",
       "       [ 0.043,  0.149,  0.065],\n",
       "       [ 0.046,  0.007,  0.015]])"
      ]
     },
     "execution_count": 209,
     "metadata": {},
     "output_type": "execute_result"
    }
   ],
   "source": [
    "Rotation.from_matrix(deltas_matrix[:, :3, :3]).as_euler('xyz').round(3)"
   ]
  },
  {
   "cell_type": "code",
   "execution_count": 159,
   "metadata": {},
   "outputs": [
    {
     "data": {
      "text/plain": [
       "0.10256410256410256"
      ]
     },
     "execution_count": 159,
     "metadata": {},
     "output_type": "execute_result"
    }
   ],
   "source": [
    "480. / 585 / 8"
   ]
  },
  {
   "cell_type": "code",
   "execution_count": null,
   "metadata": {},
   "outputs": [],
   "source": []
  }
 ],
 "metadata": {
  "kernelspec": {
   "display_name": "Python 3",
   "language": "python",
   "name": "python3"
  },
  "language_info": {
   "codemirror_mode": {
    "name": "ipython",
    "version": 3
   },
   "file_extension": ".py",
   "mimetype": "text/x-python",
   "name": "python",
   "nbconvert_exporter": "python",
   "pygments_lexer": "ipython3",
   "version": "3.6.9"
  }
 },
 "nbformat": 4,
 "nbformat_minor": 2
}
