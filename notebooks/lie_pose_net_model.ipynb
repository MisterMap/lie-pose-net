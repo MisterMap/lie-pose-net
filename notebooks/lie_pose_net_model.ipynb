{
 "cells": [
  {
   "cell_type": "code",
   "execution_count": 1,
   "id": "002e329b",
   "metadata": {},
   "outputs": [],
   "source": [
    "PYTHON_PATHS = [\"..\"]\n",
    "import sys\n",
    "for path in PYTHON_PATHS:\n",
    "    if path not in sys.path:\n",
    "        sys.path.append(path)\n",
    "import pytorch_lightning as pl\n",
    "import os\n",
    "from pytorch_lightning.utilities.parsing import AttributeDict\n",
    "from pytorch_lightning.loggers import TensorBoardLogger"
   ]
  },
  {
   "cell_type": "code",
   "execution_count": 2,
   "id": "78f5e45a",
   "metadata": {},
   "outputs": [],
   "source": [
    "# import matplotlib.pyplot as plt\n",
    "# import kornia"
   ]
  },
  {
   "cell_type": "code",
   "execution_count": 3,
   "id": "ab0ac963",
   "metadata": {},
   "outputs": [],
   "source": [
    "import warnings\n",
    "warnings.filterwarnings('ignore')\n",
    "warnings.simplefilter('ignore')"
   ]
  },
  {
   "cell_type": "code",
   "execution_count": 4,
   "id": "8a13ac42",
   "metadata": {},
   "outputs": [],
   "source": [
    "from lieposenet.utils.universal_factory import UniversalFactory\n",
    "from lieposenet.models.pose_net import PoseNet\n",
    "from lieposenet.criterions.pose_net_criterion import PoseNetCriterion\n",
    "from lieposenet.criterions.se3_criterion import SE3Criterion\n",
    "from lieposenet.data import SevenScenesDataModule\n",
    "\n",
    "factory = UniversalFactory([PoseNet, PoseNetCriterion, SE3Criterion])"
   ]
  },
  {
   "cell_type": "code",
   "execution_count": 5,
   "id": "86ca9792",
   "metadata": {},
   "outputs": [
    {
     "name": "stderr",
     "output_type": "stream",
     "text": [
      "/usr/local/lib/python3.9/dist-packages/clearml/backend_interface/task/models.py:38: DeprecationWarning: Flags not at the start of the expression '((?i)(Using model id' (truncated)\n",
      "  _input_models_re = re.compile(r\"((?i)(Using model id: )(\\w+)?)\")\n"
     ]
    }
   ],
   "source": [
    "from clearml import Task, Logger"
   ]
  },
  {
   "cell_type": "code",
   "execution_count": 6,
   "id": "5b381ddc",
   "metadata": {},
   "outputs": [
    {
     "name": "stdout",
     "output_type": "stream",
     "text": [
      "ClearML Task: created new task id=ef9e7840a4ad4faca6b3d37b7b61e5b4\n"
     ]
    },
    {
     "name": "stderr",
     "output_type": "stream",
     "text": [
      "/usr/local/lib/python3.9/dist-packages/nbconvert/exporters/html.py:110: DeprecationWarning:\n",
      "\n",
      "'contextfilter' is renamed to 'pass_context', the old name will be removed in Jinja 3.1.\n",
      "\n"
     ]
    },
    {
     "name": "stdout",
     "output_type": "stream",
     "text": [
      "ClearML new version available: upgrade to v1.0.5 is recommended!\n",
      "ClearML results page: https://app.community.clear.ml/projects/04b664f021694b21aadb7a6f50ab46f1/experiments/ef9e7840a4ad4faca6b3d37b7b61e5b4/output/log\n"
     ]
    }
   ],
   "source": [
    "task = Task.init(project_name=\"lie-pose-net\", task_name=\"LiePoseNet on local machine\")"
   ]
  },
  {
   "cell_type": "markdown",
   "id": "a9a88834",
   "metadata": {},
   "source": [
    "# Load datamodule"
   ]
  },
  {
   "cell_type": "code",
   "execution_count": 7,
   "id": "c67e3d9c",
   "metadata": {},
   "outputs": [
    {
     "name": "stderr",
     "output_type": "stream",
     "text": [
      "/usr/local/lib/python3.9/dist-packages/IPython/core/inputsplitter.py:21: DeprecationWarning:\n",
      "\n",
      "IPython.core.inputsplitter is deprecated since IPython 7 in favor of `IPython.core.inputtransformer2`\n",
      "\n"
     ]
    },
    {
     "name": "stdout",
     "output_type": "stream",
     "text": [
      "[ToyDataModule] - train subset size 2000\n",
      "[ToyDataModule] - validation dataset size 2000\n"
     ]
    }
   ],
   "source": [
    "data_module_params = {\n",
    "    \"batch_size\": 64,\n",
    "    \"use_test\": True,\n",
    "    \"num_workers\": 4,\n",
    "    \"image_size\": 256,\n",
    "    \"scene\": \"fire\",\n",
    "    \"data_path\": \"/media/mikhail/Data3T/7scenes\"\n",
    "}\n",
    "task.connect(data_module_params)\n",
    "scene = data_module_params[\"scene\"]\n",
    "data_module = SevenScenesDataModule(**data_module_params)"
   ]
  },
  {
   "cell_type": "markdown",
   "id": "872c82a2",
   "metadata": {},
   "source": [
    "# Model"
   ]
  },
  {
   "cell_type": "code",
   "execution_count": 8,
   "id": "511e6eac",
   "metadata": {},
   "outputs": [
    {
     "name": "stderr",
     "output_type": "stream",
     "text": [
      "/usr/local/lib/python3.9/dist-packages/nbconvert/exporters/html.py:135: DeprecationWarning:\n",
      "\n",
      "'jinja2.Markup' is deprecated and will be removed in Jinja 3.1. Import 'markupsafe.Markup' instead.\n",
      "\n",
      "/usr/local/lib/python3.9/dist-packages/nbconvert/exporters/html.py:135: DeprecationWarning:\n",
      "\n",
      "'jinja2.Markup' is deprecated and will be removed in Jinja 3.1. Import 'markupsafe.Markup' instead.\n",
      "\n",
      "/usr/local/lib/python3.9/dist-packages/nbconvert/filters/ansi.py:60: DeprecationWarning:\n",
      "\n",
      "'jinja2.escape' is deprecated and will be removed in Jinja 3.1. Import 'markupsafe.escape' instead.\n",
      "\n",
      "/usr/local/lib/python3.9/dist-packages/nbconvert/filters/ansi.py:60: DeprecationWarning:\n",
      "\n",
      "'jinja2.escape' is deprecated and will be removed in Jinja 3.1. Import 'markupsafe.escape' instead.\n",
      "\n",
      "/usr/local/lib/python3.9/dist-packages/nbconvert/filters/ansi.py:60: DeprecationWarning:\n",
      "\n",
      "'jinja2.escape' is deprecated and will be removed in Jinja 3.1. Import 'markupsafe.escape' instead.\n",
      "\n",
      "/usr/local/lib/python3.9/dist-packages/nbconvert/filters/ansi.py:60: DeprecationWarning:\n",
      "\n",
      "'jinja2.escape' is deprecated and will be removed in Jinja 3.1. Import 'markupsafe.escape' instead.\n",
      "\n",
      "/usr/local/lib/python3.9/dist-packages/nbconvert/filters/ansi.py:60: DeprecationWarning:\n",
      "\n",
      "'jinja2.escape' is deprecated and will be removed in Jinja 3.1. Import 'markupsafe.escape' instead.\n",
      "\n",
      "/usr/local/lib/python3.9/dist-packages/nbconvert/filters/ansi.py:60: DeprecationWarning:\n",
      "\n",
      "'jinja2.escape' is deprecated and will be removed in Jinja 3.1. Import 'markupsafe.escape' instead.\n",
      "\n",
      "/usr/local/lib/python3.9/dist-packages/nbconvert/filters/ansi.py:60: DeprecationWarning:\n",
      "\n",
      "'jinja2.escape' is deprecated and will be removed in Jinja 3.1. Import 'markupsafe.escape' instead.\n",
      "\n",
      "/usr/local/lib/python3.9/dist-packages/nbconvert/filters/ansi.py:60: DeprecationWarning:\n",
      "\n",
      "'jinja2.escape' is deprecated and will be removed in Jinja 3.1. Import 'markupsafe.escape' instead.\n",
      "\n",
      "/usr/local/lib/python3.9/dist-packages/nbconvert/filters/ansi.py:60: DeprecationWarning:\n",
      "\n",
      "'jinja2.escape' is deprecated and will be removed in Jinja 3.1. Import 'markupsafe.escape' instead.\n",
      "\n",
      "/usr/local/lib/python3.9/dist-packages/nbconvert/filters/ansi.py:60: DeprecationWarning:\n",
      "\n",
      "'jinja2.escape' is deprecated and will be removed in Jinja 3.1. Import 'markupsafe.escape' instead.\n",
      "\n",
      "/usr/local/lib/python3.9/dist-packages/nbconvert/filters/ansi.py:60: DeprecationWarning:\n",
      "\n",
      "'jinja2.escape' is deprecated and will be removed in Jinja 3.1. Import 'markupsafe.escape' instead.\n",
      "\n",
      "/usr/local/lib/python3.9/dist-packages/nbconvert/filters/ansi.py:60: DeprecationWarning:\n",
      "\n",
      "'jinja2.escape' is deprecated and will be removed in Jinja 3.1. Import 'markupsafe.escape' instead.\n",
      "\n",
      "/usr/local/lib/python3.9/dist-packages/nbconvert/filters/ansi.py:60: DeprecationWarning:\n",
      "\n",
      "'jinja2.escape' is deprecated and will be removed in Jinja 3.1. Import 'markupsafe.escape' instead.\n",
      "\n"
     ]
    },
    {
     "name": "stdout",
     "output_type": "stream",
     "text": [
      "2021-09-06 20:57:02,740 - clearml.model - INFO - Selected model id: a22c91c76a0f4ef791b13c6d45497aa2\n"
     ]
    }
   ],
   "source": [
    "model_params =  AttributeDict(**{\n",
    "    \"name\": \"PoseNet\",\n",
    "    \"feature_extractor\": AttributeDict(\n",
    "        pretrained=True\n",
    "    ),\n",
    "    \"criterion\": {\n",
    "        \"name\": \"SE3Criterion\",\n",
    "        \"rotation_koef\": -3.0,\n",
    "        \"translation_koef\": -3.0,\n",
    "    },\n",
    "    \"feature_dimension\": 2048,\n",
    "    \"drop_rate\": 0,\n",
    "    \"optimizer\": AttributeDict(\n",
    "        betas=\"0.9 0.999\",\n",
    "        lr=0.0001,\n",
    "        weight_decay=0.0005,\n",
    "    ),\n",
    "    \"scheduler\": {\n",
    "        \"step_size\": 20,\n",
    "        \"gamma\": 0.5,\n",
    "    },\n",
    "    \"bias\": True,\n",
    "    \"activation\": \"tanh\",\n",
    "    \"pretrained\": True\n",
    "})\n",
    "task.connect(model_params)\n",
    "model = factory.make_from_parameters(model_params)"
   ]
  },
  {
   "cell_type": "markdown",
   "id": "aaefb0ec",
   "metadata": {},
   "source": [
    "# Train"
   ]
  },
  {
   "cell_type": "code",
   "execution_count": 9,
   "id": "009d9aad",
   "metadata": {},
   "outputs": [
    {
     "name": "stderr",
     "output_type": "stream",
     "text": [
      "GPU available: True, used: True\n",
      "TPU available: False, using: 0 TPU cores\n"
     ]
    }
   ],
   "source": [
    "logger_path = os.path.join(os.path.dirname(task.cache_dir), \"lightning_logs\", \"lieposenet\")\n",
    "# logger_path = 'lightning_logs'\n",
    "trainer_params = {\n",
    "    \"max_epochs\": 1,\n",
    "    \"checkpoint_every_n_val_epochs\": 10,\n",
    "    \"gpus\": 1,\n",
    "    \"check_val_every_n_epoch\": 2\n",
    "}\n",
    "task.connect(trainer_params)\n",
    "model_checkpoint = pl.callbacks.ModelCheckpoint(monitor='val_loss',\n",
    "    every_n_val_epochs=trainer_params[\"checkpoint_every_n_val_epochs\"])\n",
    "trainer = factory.kwargs_function(pl.Trainer)(\n",
    "    logger=TensorBoardLogger(logger_path, name=scene),\n",
    "    callbacks=[model_checkpoint],\n",
    "    **trainer_params\n",
    ")"
   ]
  },
  {
   "cell_type": "code",
   "execution_count": 10,
   "id": "8fbf4cba",
   "metadata": {},
   "outputs": [
    {
     "name": "stderr",
     "output_type": "stream",
     "text": [
      "LOCAL_RANK: 0 - CUDA_VISIBLE_DEVICES: [0]\n",
      "\n",
      "  | Name              | Type         | Params\n",
      "---------------------------------------------------\n",
      "0 | criterion         | SE3Criterion | 6     \n",
      "1 | feature_extractor | ResNet       | 22.3 M\n",
      "2 | final_fc          | Linear       | 57.4 K\n",
      "---------------------------------------------------\n",
      "22.4 M    Trainable params\n",
      "0         Non-trainable params\n",
      "22.4 M    Total params\n",
      "89.571    Total estimated model params size (MB)\n"
     ]
    },
    {
     "data": {
      "application/vnd.jupyter.widget-view+json": {
       "model_id": "",
       "version_major": 2,
       "version_minor": 0
      },
      "text/plain": [
       "Validation sanity check: 0it [00:00, ?it/s]"
      ]
     },
     "metadata": {},
     "output_type": "display_data"
    },
    {
     "data": {
      "application/vnd.jupyter.widget-view+json": {
       "model_id": "e285f8e271d34e10ae4196e0035b1dca",
       "version_major": 2,
       "version_minor": 0
      },
      "text/plain": [
       "Training: 0it [00:00, ?it/s]"
      ]
     },
     "metadata": {},
     "output_type": "display_data"
    }
   ],
   "source": [
    "trainer.fit(model, data_module)"
   ]
  },
  {
   "cell_type": "code",
   "execution_count": 11,
   "id": "8d1c2b3b",
   "metadata": {},
   "outputs": [
    {
     "name": "stderr",
     "output_type": "stream",
     "text": [
      "LOCAL_RANK: 0 - CUDA_VISIBLE_DEVICES: [0]\n"
     ]
    },
    {
     "data": {
      "application/vnd.jupyter.widget-view+json": {
       "model_id": "75f3d8d8431243b380069c96eeb090ee",
       "version_major": 2,
       "version_minor": 0
      },
      "text/plain": [
       "Testing: 0it [00:00, ?it/s]"
      ]
     },
     "metadata": {},
     "output_type": "display_data"
    },
    {
     "name": "stdout",
     "output_type": "stream",
     "text": [
      "--------------------------------------------------------------------------------\n",
      "DATALOADER:0 TEST RESULTS\n",
      "{'mean_rotation': 22.91289520263672,\n",
      " 'mean_translation': 0.5174035429954529,\n",
      " 'median_position_error': 0.4988696873188019,\n",
      " 'median_rotation_error': 18.21623992919922,\n",
      " 'mse_log_se3': 0.10168445110321045,\n",
      " 'mse_log_se3_rotation': 0.08561597019433975,\n",
      " 'mse_log_se3_translation': 0.11775291711091995,\n",
      " 'mse_rotation': 3.425203323364258,\n",
      " 'mse_translation': 0.11283605545759201,\n",
      " 'test_loss': -4.543307781219482}\n",
      "--------------------------------------------------------------------------------\n"
     ]
    },
    {
     "data": {
      "text/plain": [
       "[{'test_loss': -4.543307781219482,\n",
       "  'mean_translation': 0.5174035429954529,\n",
       "  'mean_rotation': 22.91289520263672,\n",
       "  'mse_translation': 0.11283605545759201,\n",
       "  'mse_rotation': 3.425203323364258,\n",
       "  'mse_log_se3': 0.10168445110321045,\n",
       "  'mse_log_se3_rotation': 0.08561597019433975,\n",
       "  'mse_log_se3_translation': 0.11775291711091995,\n",
       "  'median_position_error': 0.4988696873188019,\n",
       "  'median_rotation_error': 18.21623992919922}]"
      ]
     },
     "execution_count": 11,
     "metadata": {},
     "output_type": "execute_result"
    },
    {
     "data": {
      "image/png": "[encoded data removed]",
      "text/plain": [
       "<Figure size 432x288 with 1 Axes>"
      ]
     },
     "metadata": {
      "needs_background": "light"
     },
     "output_type": "display_data"
    }
   ],
   "source": [
    "trainer.test(model, data_module.test_dataloader())"
   ]
  },
  {
   "cell_type": "code",
   "execution_count": 15,
   "id": "678ca7d9",
   "metadata": {},
   "outputs": [],
   "source": [
    "batch = None\n",
    "for x in data_module.test_dataloader():\n",
    "    batch = x\n",
    "    break"
   ]
  },
  {
   "cell_type": "code",
   "execution_count": 17,
   "id": "4c509727",
   "metadata": {},
   "outputs": [],
   "source": [
    "output, losses = model.loss(batch)"
   ]
  },
  {
   "cell_type": "code",
   "execution_count": 19,
   "id": "5b4206c8",
   "metadata": {},
   "outputs": [
    {
     "data": {
      "text/plain": [
       "torch.Size([64, 28])"
      ]
     },
     "execution_count": 19,
     "metadata": {},
     "output_type": "execute_result"
    }
   ],
   "source": [
    "output.shape"
   ]
  },
  {
   "cell_type": "code",
   "execution_count": 26,
   "id": "06d0c987",
   "metadata": {},
   "outputs": [],
   "source": [
    "pose = batch[\"position\"]"
   ]
  },
  {
   "cell_type": "code",
   "execution_count": 41,
   "id": "ec1d02d8",
   "metadata": {},
   "outputs": [],
   "source": [
    "rotation = model.criterion.rotation(output)"
   ]
  },
  {
   "cell_type": "code",
   "execution_count": 51,
   "id": "a9268f9e",
   "metadata": {},
   "outputs": [
    {
     "data": {
      "text/plain": [
       "tensor([1.0000, 1.0000, 1.0000, 1.0000, 1.0000, 1.0000, 1.0000, 1.0000, 1.0000,\n",
       "        1.0000, 1.0000, 1.0000, 1.0000, 1.0000, 1.0000, 1.0000, 1.0000, 1.0000,\n",
       "        1.0000, 1.0000, 1.0000, 1.0000, 1.0000, 1.0000, 1.0000, 1.0000, 1.0000,\n",
       "        1.0000, 1.0000, 1.0000, 1.0000, 1.0000, 1.0000, 1.0000, 1.0000, 1.0000,\n",
       "        1.0000, 1.0000, 1.0000, 1.0000, 1.0000, 1.0000, 1.0000, 1.0000, 1.0000,\n",
       "        1.0000, 1.0000, 1.0000, 1.0000, 1.0000, 1.0000, 1.0000, 1.0000, 1.0000,\n",
       "        1.0000, 1.0000, 1.0000, 1.0000, 1.0000, 1.0000, 1.0000, 1.0000, 1.0000,\n",
       "        1.0000], grad_fn=<NormBackward1>)"
      ]
     },
     "execution_count": 51,
     "metadata": {},
     "output_type": "execute_result"
    }
   ],
   "source": [
    "torch.norm(torch.nn.functional.normalize(output[:, 3:7]), dim=1, p=2)"
   ]
  },
  {
   "cell_type": "code",
   "execution_count": 42,
   "id": "a0743a08",
   "metadata": {},
   "outputs": [
    {
     "data": {
      "text/plain": [
       "tensor([[ 2.4626,  1.4650, -0.0040],\n",
       "        [ 2.2819,  1.6622,  0.4203],\n",
       "        [ 2.2597,  1.7119,  0.4642],\n",
       "        [ 2.1607,  1.8306,  0.4486],\n",
       "        [ 2.1913,  1.8109,  0.3120],\n",
       "        [ 2.1775,  1.8476,  0.2799],\n",
       "        [ 2.2580,  1.7014,  0.4704],\n",
       "        [ 2.2556,  1.7073,  0.4468],\n",
       "        [ 2.4184,  1.5768,  0.2951],\n",
       "        [ 2.4187,  1.5480,  0.2551],\n",
       "        [ 2.4656,  1.5342, -0.3016],\n",
       "        [ 2.5197,  1.3966,  0.2061],\n",
       "        [ 2.2961,  1.7739,  0.0131],\n",
       "        [ 2.5424,  1.4279, -0.2021],\n",
       "        [ 2.3977,  1.6019,  0.4026],\n",
       "        [ 2.3514,  1.6843,  0.1865],\n",
       "        [ 2.3074,  1.7418,  0.3383],\n",
       "        [ 2.6318,  1.2872,  0.3626],\n",
       "        [ 2.6453,  1.2683, -0.0098],\n",
       "        [ 2.5360,  1.4452,  0.2112],\n",
       "        [ 2.2957,  1.7353,  0.0786],\n",
       "        [ 2.2058,  1.8354,  0.2603],\n",
       "        [ 2.5080,  1.4663, -0.1308],\n",
       "        [ 2.1986,  1.8480,  0.0113],\n",
       "        [ 2.4002,  1.5945,  0.2736],\n",
       "        [ 2.4060,  1.5564,  0.2308],\n",
       "        [ 2.5297,  1.3586,  0.0694],\n",
       "        [ 2.7170,  0.9684,  0.3863],\n",
       "        [ 2.5252,  1.2346,  0.5366],\n",
       "        [ 2.3452,  1.5761,  0.6471],\n",
       "        [ 2.4277,  1.5012,  0.5373],\n",
       "        [ 1.9070,  1.9814,  0.8741],\n",
       "        [ 2.4158,  1.3715,  0.8411],\n",
       "        [ 2.4351,  1.2696,  0.9393],\n",
       "        [ 2.3222,  1.4154,  1.1018],\n",
       "        [ 2.4061,  1.4082,  0.9565],\n",
       "        [ 2.3376,  1.4283,  1.0913],\n",
       "        [ 2.3759,  1.6255,  0.5660],\n",
       "        [ 2.5974,  1.2292,  0.4615],\n",
       "        [ 2.5361,  1.4246,  0.4497],\n",
       "        [ 2.4975,  1.2268,  0.9649],\n",
       "        [ 2.3034,  1.4363,  1.0315],\n",
       "        [ 2.3340,  1.5949,  0.6143],\n",
       "        [ 2.2705,  1.6217,  0.7022],\n",
       "        [ 1.9818,  1.8662,  0.8377],\n",
       "        [ 2.2296,  1.7425,  0.6065],\n",
       "        [ 2.0455,  1.8227,  0.9285],\n",
       "        [ 2.0935,  1.6470,  1.1419],\n",
       "        [ 2.2953,  1.5752,  0.7375],\n",
       "        [ 1.9929,  1.8717,  0.8609],\n",
       "        [ 2.1189,  1.7119,  0.9085],\n",
       "        [ 2.0658,  1.9496,  0.3774],\n",
       "        [ 2.0857,  1.9759,  0.1252],\n",
       "        [ 1.6808,  2.1378,  0.8532],\n",
       "        [ 2.1371,  1.7269,  0.7313],\n",
       "        [ 2.2284,  1.7218,  0.6963],\n",
       "        [ 2.2499,  1.6002,  0.7844],\n",
       "        [ 1.8726,  2.0113,  0.7204],\n",
       "        [ 1.5509,  2.1970,  0.7843],\n",
       "        [ 1.4129,  2.3002,  0.8052],\n",
       "        [ 1.2355,  2.4063,  0.7761],\n",
       "        [ 1.3925,  2.2769,  0.8214],\n",
       "        [ 1.7659,  2.1275,  0.6997],\n",
       "        [ 1.6813,  2.0751,  0.9792]], grad_fn=<DivBackward0>)"
      ]
     },
     "execution_count": 42,
     "metadata": {},
     "output_type": "execute_result"
    }
   ],
   "source": [
    "kornia.quaternion_exp_to_log(rotation)"
   ]
  },
  {
   "cell_type": "code",
   "execution_count": 24,
   "id": "988073b1",
   "metadata": {},
   "outputs": [],
   "source": [
    "import kornia"
   ]
  },
  {
   "cell_type": "code",
   "execution_count": 25,
   "id": "656d0a62",
   "metadata": {},
   "outputs": [
    {
     "data": {
      "text/plain": [
       "tensor([[ 2.4626,  1.4650, -0.0040],\n",
       "        [ 2.2819,  1.6622,  0.4203],\n",
       "        [ 2.2597,  1.7119,  0.4642],\n",
       "        [ 2.1607,  1.8306,  0.4486],\n",
       "        [ 2.1913,  1.8109,  0.3120],\n",
       "        [ 2.1775,  1.8476,  0.2799],\n",
       "        [ 2.2580,  1.7014,  0.4704],\n",
       "        [ 2.2556,  1.7073,  0.4468],\n",
       "        [ 2.4184,  1.5768,  0.2951],\n",
       "        [ 2.4187,  1.5480,  0.2551],\n",
       "        [ 2.4656,  1.5342, -0.3016],\n",
       "        [ 2.5197,  1.3966,  0.2061],\n",
       "        [ 2.2961,  1.7739,  0.0131],\n",
       "        [ 2.5424,  1.4279, -0.2021],\n",
       "        [ 2.3977,  1.6019,  0.4026],\n",
       "        [ 2.3514,  1.6843,  0.1865],\n",
       "        [ 2.3074,  1.7418,  0.3383],\n",
       "        [ 2.6318,  1.2872,  0.3626],\n",
       "        [ 2.6453,  1.2683, -0.0098],\n",
       "        [ 2.5360,  1.4452,  0.2112],\n",
       "        [ 2.2957,  1.7353,  0.0786],\n",
       "        [ 2.2058,  1.8354,  0.2603],\n",
       "        [ 2.5080,  1.4663, -0.1308],\n",
       "        [ 2.1986,  1.8480,  0.0113],\n",
       "        [ 2.4002,  1.5945,  0.2736],\n",
       "        [ 2.4060,  1.5564,  0.2308],\n",
       "        [ 2.5297,  1.3586,  0.0694],\n",
       "        [ 2.7170,  0.9684,  0.3863],\n",
       "        [ 2.5252,  1.2346,  0.5366],\n",
       "        [ 2.3452,  1.5761,  0.6471],\n",
       "        [ 2.4277,  1.5012,  0.5373],\n",
       "        [ 1.9070,  1.9814,  0.8741],\n",
       "        [ 2.4158,  1.3715,  0.8411],\n",
       "        [ 2.4351,  1.2696,  0.9393],\n",
       "        [ 2.3222,  1.4154,  1.1018],\n",
       "        [ 2.4061,  1.4082,  0.9565],\n",
       "        [ 2.3376,  1.4283,  1.0913],\n",
       "        [ 2.3759,  1.6255,  0.5660],\n",
       "        [ 2.5974,  1.2292,  0.4615],\n",
       "        [ 2.5361,  1.4246,  0.4497],\n",
       "        [ 2.4975,  1.2268,  0.9649],\n",
       "        [ 2.3034,  1.4363,  1.0315],\n",
       "        [ 2.3340,  1.5949,  0.6143],\n",
       "        [ 2.2705,  1.6217,  0.7022],\n",
       "        [ 1.9818,  1.8662,  0.8377],\n",
       "        [ 2.2296,  1.7425,  0.6065],\n",
       "        [ 2.0455,  1.8227,  0.9285],\n",
       "        [ 2.0935,  1.6470,  1.1419],\n",
       "        [ 2.2953,  1.5752,  0.7375],\n",
       "        [ 1.9929,  1.8717,  0.8609],\n",
       "        [ 2.1189,  1.7119,  0.9085],\n",
       "        [ 2.0658,  1.9496,  0.3774],\n",
       "        [ 2.0857,  1.9759,  0.1252],\n",
       "        [ 1.6808,  2.1378,  0.8532],\n",
       "        [ 2.1371,  1.7269,  0.7313],\n",
       "        [ 2.2284,  1.7218,  0.6963],\n",
       "        [ 2.2499,  1.6002,  0.7844],\n",
       "        [ 1.8726,  2.0113,  0.7204],\n",
       "        [ 1.5509,  2.1970,  0.7843],\n",
       "        [ 1.4129,  2.3002,  0.8052],\n",
       "        [ 1.2355,  2.4063,  0.7761],\n",
       "        [ 1.3925,  2.2769,  0.8214],\n",
       "        [ 1.7659,  2.1275,  0.6997],\n",
       "        [ 1.6813,  2.0751,  0.9792]], grad_fn=<DivBackward0>)"
      ]
     },
     "execution_count": 25,
     "metadata": {},
     "output_type": "execute_result"
    }
   ],
   "source": [
    "kornia.quaternion_exp_to_log(position.q_rotation)"
   ]
  },
  {
   "cell_type": "code",
   "execution_count": 40,
   "id": "487eea97",
   "metadata": {},
   "outputs": [
    {
     "data": {
      "text/plain": [
       "tensor([[ 0.0000e+00,  0.0000e+00,  0.0000e+00],\n",
       "        [ 0.0000e+00,  0.0000e+00,  0.0000e+00],\n",
       "        [ 0.0000e+00,  0.0000e+00,  0.0000e+00],\n",
       "        [ 1.4901e-08, -1.4901e-08, -1.4901e-08],\n",
       "        [ 0.0000e+00,  0.0000e+00,  0.0000e+00],\n",
       "        [ 0.0000e+00, -7.4506e-09, -7.4506e-09],\n",
       "        [-1.4901e-08,  7.4506e-09,  7.4506e-09],\n",
       "        [ 0.0000e+00, -7.4506e-09, -7.4506e-09],\n",
       "        [ 0.0000e+00,  0.0000e+00,  0.0000e+00],\n",
       "        [ 0.0000e+00,  7.4506e-09,  0.0000e+00],\n",
       "        [ 0.0000e+00,  0.0000e+00,  7.4506e-09],\n",
       "        [-1.4901e-08,  7.4506e-09,  7.4506e-09],\n",
       "        [ 0.0000e+00, -3.7253e-09,  0.0000e+00],\n",
       "        [-1.4901e-08,  3.7253e-09,  7.4506e-09],\n",
       "        [-1.4901e-08,  3.7253e-09,  7.4506e-09],\n",
       "        [-1.4901e-08,  7.4506e-09,  1.4901e-08],\n",
       "        [ 2.9802e-08, -1.1176e-08, -1.4901e-08],\n",
       "        [-1.4901e-08,  3.7253e-09,  7.4506e-09],\n",
       "        [-1.4901e-08,  7.4506e-09,  1.4901e-08],\n",
       "        [ 0.0000e+00,  3.7253e-09,  0.0000e+00],\n",
       "        [ 0.0000e+00,  0.0000e+00,  0.0000e+00],\n",
       "        [-1.4901e-08,  0.0000e+00, -7.4506e-09],\n",
       "        [ 0.0000e+00,  0.0000e+00,  0.0000e+00],\n",
       "        [-1.4901e-08,  0.0000e+00,  0.0000e+00],\n",
       "        [ 1.4901e-08, -3.7253e-09, -7.4506e-09],\n",
       "        [ 0.0000e+00,  0.0000e+00,  7.4506e-09],\n",
       "        [ 0.0000e+00,  0.0000e+00,  0.0000e+00],\n",
       "        [ 1.4901e-08,  0.0000e+00, -7.4506e-09],\n",
       "        [ 0.0000e+00,  0.0000e+00,  0.0000e+00],\n",
       "        [ 0.0000e+00,  0.0000e+00,  0.0000e+00],\n",
       "        [-1.4901e-08,  7.4506e-09,  7.4506e-09],\n",
       "        [ 1.4901e-08, -7.4506e-09, -7.4506e-09],\n",
       "        [ 1.4901e-08,  0.0000e+00, -7.4506e-09],\n",
       "        [ 0.0000e+00, -7.4506e-09, -7.4506e-09],\n",
       "        [ 0.0000e+00, -7.4506e-09, -7.4506e-09],\n",
       "        [ 0.0000e+00, -7.4506e-09, -7.4506e-09],\n",
       "        [-2.9802e-08,  1.4901e-08,  1.4901e-08],\n",
       "        [ 0.0000e+00,  0.0000e+00,  0.0000e+00],\n",
       "        [ 2.9802e-08, -7.4506e-09, -1.4901e-08],\n",
       "        [ 0.0000e+00,  0.0000e+00,  0.0000e+00],\n",
       "        [ 0.0000e+00,  0.0000e+00,  0.0000e+00],\n",
       "        [-1.4901e-08,  0.0000e+00,  0.0000e+00],\n",
       "        [ 0.0000e+00, -7.4506e-09,  0.0000e+00],\n",
       "        [ 0.0000e+00,  0.0000e+00,  0.0000e+00],\n",
       "        [-2.9802e-08,  1.4901e-08,  2.2352e-08],\n",
       "        [ 0.0000e+00,  0.0000e+00,  0.0000e+00],\n",
       "        [ 0.0000e+00,  0.0000e+00,  0.0000e+00],\n",
       "        [ 1.4901e-08, -1.4901e-08, -1.4901e-08],\n",
       "        [-2.9802e-08,  1.4901e-08,  1.4901e-08],\n",
       "        [ 1.4901e-08,  0.0000e+00,  0.0000e+00],\n",
       "        [ 0.0000e+00,  0.0000e+00,  0.0000e+00],\n",
       "        [-1.4901e-08,  0.0000e+00,  0.0000e+00],\n",
       "        [ 0.0000e+00,  0.0000e+00,  0.0000e+00],\n",
       "        [ 0.0000e+00, -1.4901e-08, -1.4901e-08],\n",
       "        [ 0.0000e+00,  0.0000e+00,  0.0000e+00],\n",
       "        [ 0.0000e+00, -7.4506e-09,  0.0000e+00],\n",
       "        [-2.9802e-08,  7.4506e-09,  7.4506e-09],\n",
       "        [-2.9802e-08,  7.4506e-09,  7.4506e-09],\n",
       "        [ 0.0000e+00, -7.4506e-09,  0.0000e+00],\n",
       "        [ 2.9802e-08, -1.4901e-08, -7.4506e-09],\n",
       "        [ 0.0000e+00, -7.4506e-09, -7.4506e-09],\n",
       "        [-2.9802e-08,  7.4506e-09,  7.4506e-09],\n",
       "        [-2.9802e-08,  7.4506e-09,  1.4901e-08],\n",
       "        [ 2.9802e-08, -1.4901e-08, -7.4506e-09]])"
      ]
     },
     "execution_count": 40,
     "metadata": {},
     "output_type": "execute_result"
    }
   ],
   "source": [
    "x = kornia.rotation_matrix_to_quaternion(pose[:, :3, :3].clone())\n",
    "y = kornia.quaternion_exp_to_log(x)\n",
    "z = kornia.quaternion_log_to_exp(y)\n",
    "z1 = kornia.quaternion_exp_to_log(z)\n",
    "z1 - y"
   ]
  },
  {
   "cell_type": "code",
   "execution_count": 36,
   "id": "b058d7a6",
   "metadata": {},
   "outputs": [
    {
     "data": {
      "text/plain": [
       "tensor([1.0000, 1.0000, 1.0000, 1.0000, 1.0000, 1.0000, 1.0000, 1.0000, 1.0000,\n",
       "        1.0000, 1.0000, 1.0000, 1.0000, 1.0000, 1.0000, 1.0000, 1.0000, 1.0000,\n",
       "        1.0000, 1.0000, 1.0000, 1.0000, 1.0000, 1.0000, 1.0000, 1.0000, 1.0000,\n",
       "        1.0000, 1.0000, 1.0000, 1.0000, 1.0000, 1.0000, 1.0000, 1.0000, 1.0000,\n",
       "        1.0000, 1.0000, 1.0000, 1.0000, 1.0000, 1.0000, 1.0000, 1.0000, 1.0000,\n",
       "        1.0000, 1.0000, 1.0000, 1.0000, 1.0000, 1.0000, 1.0000, 1.0000, 1.0000,\n",
       "        1.0000, 1.0000, 1.0000, 1.0000, 1.0000, 1.0000, 1.0000, 1.0000, 1.0000,\n",
       "        1.0000])"
      ]
     },
     "execution_count": 36,
     "metadata": {},
     "output_type": "execute_result"
    }
   ],
   "source": [
    "torch.norm(kornia.rotation_matrix_to_quaternion(pose[:, :3, :3].clone()), dim=1, p=2)"
   ]
  },
  {
   "cell_type": "code",
   "execution_count": 31,
   "id": "0d2e0930",
   "metadata": {},
   "outputs": [],
   "source": [
    "from lieposenet.utils.torch_math import *"
   ]
  },
  {
   "cell_type": "code",
   "execution_count": 33,
   "id": "6892fbec",
   "metadata": {},
   "outputs": [
    {
     "data": {
      "text/plain": [
       "tensor(32.5035, grad_fn=<MeanBackward0>)"
      ]
     },
     "execution_count": 33,
     "metadata": {},
     "output_type": "execute_result"
    }
   ],
   "source": [
    "torch.mean(quaternion_angular_error(kornia.rotation_matrix_to_quaternion(pose[:, :3, :3].clone()), \n",
    "                                    position.q_rotation))"
   ]
  },
  {
   "cell_type": "code",
   "execution_count": null,
   "id": "9fd272cc",
   "metadata": {},
   "outputs": [],
   "source": []
  },
  {
   "cell_type": "code",
   "execution_count": 12,
   "id": "1cf5c72a",
   "metadata": {},
   "outputs": [],
   "source": [
    "truth_position = model._data_saver[\"truth_position\"]\n",
    "predicted_position = model._data_saver[\"predicted_position\"]"
   ]
  },
  {
   "cell_type": "code",
   "execution_count": 13,
   "id": "d6c5057e",
   "metadata": {},
   "outputs": [],
   "source": [
    "Logger.current_logger().report_scatter3d(title=\"trajectory\", series=\"truth_positions\", iteration=1, \n",
    "                                         scatter=truth_position,\n",
    "     xaxis=\"x\", yaxis=\"y\", zaxis=\"z\", mode=\"lines\")\n",
    "Logger.current_logger().report_scatter3d(title=\"trajectory\", series=\"predicted_position\", iteration=1, \n",
    "                                         scatter=predicted_position,\n",
    "     xaxis=\"x\", yaxis=\"y\", zaxis=\"z\", mode=\"lines\")"
   ]
  },
  {
   "cell_type": "code",
   "execution_count": 14,
   "id": "ba1c9c84",
   "metadata": {},
   "outputs": [
    {
     "name": "stdout",
     "output_type": "stream",
     "text": [
      "2021-09-06 20:57:44,619 - clearml.Task - INFO - Waiting to finish uploads\n",
      "2021-09-06 20:57:45,872 - clearml.Task - INFO - Finished uploading\n"
     ]
    }
   ],
   "source": [
    "task.close()"
   ]
  }
 ],
 "metadata": {
  "kernelspec": {
   "display_name": "Python 3 (ipykernel)",
   "language": "python",
   "name": "python3"
  },
  "language_info": {
   "codemirror_mode": {
    "name": "ipython",
    "version": 3
   },
   "file_extension": ".py",
   "mimetype": "text/x-python",
   "name": "python",
   "nbconvert_exporter": "python",
   "pygments_lexer": "ipython3",
   "version": "3.9.5"
  }
 },
 "nbformat": 4,
 "nbformat_minor": 5
}
