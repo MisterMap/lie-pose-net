{
 "cells": [
  {
   "cell_type": "code",
   "execution_count": 15,
   "id": "002e329b",
   "metadata": {},
   "outputs": [],
   "source": [
    "PYTHON_PATHS = [\"..\"]\n",
    "import sys\n",
    "for path in PYTHON_PATHS:\n",
    "    if path not in sys.path:\n",
    "        sys.path.append(path)\n",
    "import pytorch_lightning as pl\n",
    "import os\n",
    "from pytorch_lightning.utilities.parsing import AttributeDict\n",
    "from pytorch_lightning.loggers import TensorBoardLogger"
   ]
  },
  {
   "cell_type": "code",
   "execution_count": 16,
   "id": "78f5e45a",
   "metadata": {},
   "outputs": [],
   "source": [
    "# import matplotlib.pyplot as plt\n",
    "# import kornia"
   ]
  },
  {
   "cell_type": "code",
   "execution_count": 17,
   "id": "ab0ac963",
   "metadata": {},
   "outputs": [],
   "source": [
    "import warnings\n",
    "warnings.filterwarnings('ignore')\n",
    "warnings.simplefilter('ignore')"
   ]
  },
  {
   "cell_type": "code",
   "execution_count": 18,
   "id": "8a13ac42",
   "metadata": {},
   "outputs": [],
   "source": [
    "from lieposenet.utils.universal_factory import UniversalFactory\n",
    "from lieposenet.models.pose_net import PoseNet\n",
    "from lieposenet.criterions.pose_net_criterion import PoseNetCriterion\n",
    "from lieposenet.criterions.se3_criterion import SE3Criterion\n",
    "from lieposenet.data import SevenScenesDataModule\n",
    "\n",
    "factory = UniversalFactory([PoseNet, PoseNetCriterion, SE3Criterion])"
   ]
  },
  {
   "cell_type": "code",
   "execution_count": 19,
   "id": "86ca9792",
   "metadata": {},
   "outputs": [],
   "source": [
    "from clearml import Task, Logger"
   ]
  },
  {
   "cell_type": "code",
   "execution_count": 22,
   "id": "5b381ddc",
   "metadata": {},
   "outputs": [
    {
     "name": "stdout",
     "output_type": "stream",
     "text": [
      "ClearML Task: created new task id=d46f34f2fcf941be9ce4aca0a23a0f07\n",
      "ClearML results page: https://app.community.clear.ml/projects/04b664f021694b21aadb7a6f50ab46f1/experiments/d46f34f2fcf941be9ce4aca0a23a0f07/output/log\n",
      "2021-09-01 17:18:03,027 - clearml.Task - WARNING - ### TASK STOPPED - USER ABORTED - STATUS CHANGED ###\n"
     ]
    }
   ],
   "source": [
    "task = Task.init(project_name=\"lie-pose-net\", task_name=\"LiePoseNet on local machine\")"
   ]
  },
  {
   "cell_type": "markdown",
   "id": "a9a88834",
   "metadata": {},
   "source": [
    "# Load datamodule"
   ]
  },
  {
   "cell_type": "code",
   "execution_count": 6,
   "id": "c67e3d9c",
   "metadata": {},
   "outputs": [
    {
     "name": "stderr",
     "output_type": "stream",
     "text": [
      "/usr/local/lib/python3.9/dist-packages/IPython/core/inputsplitter.py:21: DeprecationWarning:\n",
      "\n",
      "IPython.core.inputsplitter is deprecated since IPython 7 in favor of `IPython.core.inputtransformer2`\n",
      "\n"
     ]
    },
    {
     "name": "stdout",
     "output_type": "stream",
     "text": [
      "[ToyDataModule] - train subset size 2000\n",
      "[ToyDataModule] - validation dataset size 2000\n"
     ]
    }
   ],
   "source": [
    "data_module_params = {\n",
    "    \"batch_size\": 64,\n",
    "    \"use_test\": True,\n",
    "    \"num_workers\": 4,\n",
    "    \"image_size\": 256,\n",
    "    \"scene\": \"fire\",\n",
    "    \"data_path\": \"/media/mikhail/Data3T/7scenes\"\n",
    "}\n",
    "task.connect(data_module_params)\n",
    "scene = data_module_params[\"scene\"]\n",
    "data_module = SevenScenesDataModule(**data_module_params)"
   ]
  },
  {
   "cell_type": "markdown",
   "id": "872c82a2",
   "metadata": {},
   "source": [
    "# Model"
   ]
  },
  {
   "cell_type": "code",
   "execution_count": 7,
   "id": "511e6eac",
   "metadata": {},
   "outputs": [
    {
     "name": "stderr",
     "output_type": "stream",
     "text": [
      "/usr/local/lib/python3.9/dist-packages/nbconvert/exporters/html.py:135: DeprecationWarning:\n",
      "\n",
      "'jinja2.Markup' is deprecated and will be removed in Jinja 3.1. Import 'markupsafe.Markup' instead.\n",
      "\n",
      "/usr/local/lib/python3.9/dist-packages/nbconvert/exporters/html.py:135: DeprecationWarning:\n",
      "\n",
      "'jinja2.Markup' is deprecated and will be removed in Jinja 3.1. Import 'markupsafe.Markup' instead.\n",
      "\n",
      "/usr/local/lib/python3.9/dist-packages/nbconvert/filters/ansi.py:60: DeprecationWarning:\n",
      "\n",
      "'jinja2.escape' is deprecated and will be removed in Jinja 3.1. Import 'markupsafe.escape' instead.\n",
      "\n",
      "/usr/local/lib/python3.9/dist-packages/nbconvert/filters/ansi.py:60: DeprecationWarning:\n",
      "\n",
      "'jinja2.escape' is deprecated and will be removed in Jinja 3.1. Import 'markupsafe.escape' instead.\n",
      "\n",
      "/usr/local/lib/python3.9/dist-packages/nbconvert/filters/ansi.py:60: DeprecationWarning:\n",
      "\n",
      "'jinja2.escape' is deprecated and will be removed in Jinja 3.1. Import 'markupsafe.escape' instead.\n",
      "\n",
      "/usr/local/lib/python3.9/dist-packages/nbconvert/filters/ansi.py:60: DeprecationWarning:\n",
      "\n",
      "'jinja2.escape' is deprecated and will be removed in Jinja 3.1. Import 'markupsafe.escape' instead.\n",
      "\n",
      "/usr/local/lib/python3.9/dist-packages/nbconvert/filters/ansi.py:60: DeprecationWarning:\n",
      "\n",
      "'jinja2.escape' is deprecated and will be removed in Jinja 3.1. Import 'markupsafe.escape' instead.\n",
      "\n",
      "/usr/local/lib/python3.9/dist-packages/nbconvert/filters/ansi.py:60: DeprecationWarning:\n",
      "\n",
      "'jinja2.escape' is deprecated and will be removed in Jinja 3.1. Import 'markupsafe.escape' instead.\n",
      "\n",
      "/usr/local/lib/python3.9/dist-packages/nbconvert/filters/ansi.py:60: DeprecationWarning:\n",
      "\n",
      "'jinja2.escape' is deprecated and will be removed in Jinja 3.1. Import 'markupsafe.escape' instead.\n",
      "\n",
      "/usr/local/lib/python3.9/dist-packages/nbconvert/filters/ansi.py:60: DeprecationWarning:\n",
      "\n",
      "'jinja2.escape' is deprecated and will be removed in Jinja 3.1. Import 'markupsafe.escape' instead.\n",
      "\n",
      "/usr/local/lib/python3.9/dist-packages/nbconvert/filters/ansi.py:60: DeprecationWarning:\n",
      "\n",
      "'jinja2.escape' is deprecated and will be removed in Jinja 3.1. Import 'markupsafe.escape' instead.\n",
      "\n",
      "/usr/local/lib/python3.9/dist-packages/nbconvert/filters/ansi.py:60: DeprecationWarning:\n",
      "\n",
      "'jinja2.escape' is deprecated and will be removed in Jinja 3.1. Import 'markupsafe.escape' instead.\n",
      "\n",
      "/usr/local/lib/python3.9/dist-packages/nbconvert/filters/ansi.py:60: DeprecationWarning:\n",
      "\n",
      "'jinja2.escape' is deprecated and will be removed in Jinja 3.1. Import 'markupsafe.escape' instead.\n",
      "\n",
      "/usr/local/lib/python3.9/dist-packages/nbconvert/filters/ansi.py:60: DeprecationWarning:\n",
      "\n",
      "'jinja2.escape' is deprecated and will be removed in Jinja 3.1. Import 'markupsafe.escape' instead.\n",
      "\n",
      "/usr/local/lib/python3.9/dist-packages/nbconvert/filters/ansi.py:60: DeprecationWarning:\n",
      "\n",
      "'jinja2.escape' is deprecated and will be removed in Jinja 3.1. Import 'markupsafe.escape' instead.\n",
      "\n",
      "/usr/local/lib/python3.9/dist-packages/nbconvert/filters/ansi.py:60: DeprecationWarning:\n",
      "\n",
      "'jinja2.escape' is deprecated and will be removed in Jinja 3.1. Import 'markupsafe.escape' instead.\n",
      "\n",
      "/usr/local/lib/python3.9/dist-packages/nbconvert/filters/ansi.py:60: DeprecationWarning:\n",
      "\n",
      "'jinja2.escape' is deprecated and will be removed in Jinja 3.1. Import 'markupsafe.escape' instead.\n",
      "\n"
     ]
    },
    {
     "name": "stdout",
     "output_type": "stream",
     "text": [
      "2021-09-01 16:02:05,881 - clearml.model - INFO - Selected model id: a22c91c76a0f4ef791b13c6d45497aa2\n"
     ]
    }
   ],
   "source": [
    "model_params =  AttributeDict(**{\n",
    "    \"name\": \"PoseNet\",\n",
    "    \"feature_extractor\": AttributeDict(\n",
    "        pretrained=True\n",
    "    ),\n",
    "    \"criterion\": {\n",
    "        \"name\": \"SE3Criterion\",\n",
    "        \"rotation_koef\": -3.0,\n",
    "        \"translation_koef\": -3.0,\n",
    "    },\n",
    "    \"feature_dimension\": 2048,\n",
    "    \"drop_rate\": 0,\n",
    "    \"optimizer\": AttributeDict(\n",
    "        betas=\"0.9 0.999\",\n",
    "        lr=0.0001,\n",
    "        weight_decay=0.0005,\n",
    "    ),\n",
    "    \"scheduler\": {\n",
    "        \"step_size\": 20,\n",
    "        \"gamma\": 0.5,\n",
    "    },\n",
    "    \"bias\": True,\n",
    "    \"activation\": \"tanh\",\n",
    "    \"pretrained\": True\n",
    "})\n",
    "task.connect(model_params)\n",
    "model = factory.make_from_parameters(model_params)"
   ]
  },
  {
   "cell_type": "markdown",
   "id": "aaefb0ec",
   "metadata": {},
   "source": [
    "# Train"
   ]
  },
  {
   "cell_type": "code",
   "execution_count": 8,
   "id": "009d9aad",
   "metadata": {},
   "outputs": [
    {
     "name": "stderr",
     "output_type": "stream",
     "text": [
      "GPU available: True, used: True\n",
      "TPU available: False, using: 0 TPU cores\n"
     ]
    }
   ],
   "source": [
    "logger_path = os.path.join(os.path.dirname(task.cache_dir), \"lightning_logs\", \"lieposenet\")\n",
    "# logger_path = 'lightning_logs'\n",
    "trainer_params = {\n",
    "    \"max_epochs\": 1,\n",
    "    \"checkpoint_every_n_val_epochs\": 10,\n",
    "    \"gpus\": 1,\n",
    "    \"check_val_every_n_epoch\": 2\n",
    "}\n",
    "task.connect(trainer_params)\n",
    "model_checkpoint = pl.callbacks.ModelCheckpoint(monitor='val_loss',\n",
    "    every_n_val_epochs=trainer_params[\"checkpoint_every_n_val_epochs\"])\n",
    "trainer = factory.kwargs_function(pl.Trainer)(\n",
    "    logger=TensorBoardLogger(logger_path, name=scene),\n",
    "    callbacks=[model_checkpoint],\n",
    "    **trainer_params\n",
    ")"
   ]
  },
  {
   "cell_type": "code",
   "execution_count": 9,
   "id": "8fbf4cba",
   "metadata": {},
   "outputs": [
    {
     "name": "stderr",
     "output_type": "stream",
     "text": [
      "LOCAL_RANK: 0 - CUDA_VISIBLE_DEVICES: [0]\n",
      "\n",
      "  | Name              | Type         | Params\n",
      "---------------------------------------------------\n",
      "0 | criterion         | SE3Criterion | 6     \n",
      "1 | feature_extractor | ResNet       | 22.3 M\n",
      "2 | final_fc          | Linear       | 57.4 K\n",
      "---------------------------------------------------\n",
      "22.4 M    Trainable params\n",
      "0         Non-trainable params\n",
      "22.4 M    Total params\n",
      "89.571    Total estimated model params size (MB)\n"
     ]
    },
    {
     "data": {
      "application/vnd.jupyter.widget-view+json": {
       "model_id": "",
       "version_major": 2,
       "version_minor": 0
      },
      "text/plain": [
       "Validation sanity check: 0it [00:00, ?it/s]"
      ]
     },
     "metadata": {},
     "output_type": "display_data"
    },
    {
     "data": {
      "application/vnd.jupyter.widget-view+json": {
       "model_id": "decdabaaa98b478eaf88dceee5b48bcc",
       "version_major": 2,
       "version_minor": 0
      },
      "text/plain": [
       "Training: 0it [00:00, ?it/s]"
      ]
     },
     "metadata": {},
     "output_type": "display_data"
    }
   ],
   "source": [
    "trainer.fit(model, data_module)"
   ]
  },
  {
   "cell_type": "code",
   "execution_count": 10,
   "id": "8d1c2b3b",
   "metadata": {},
   "outputs": [
    {
     "name": "stderr",
     "output_type": "stream",
     "text": [
      "LOCAL_RANK: 0 - CUDA_VISIBLE_DEVICES: [0]\n"
     ]
    },
    {
     "data": {
      "application/vnd.jupyter.widget-view+json": {
       "model_id": "4002b613c819428bbd7415f7e862f7b7",
       "version_major": 2,
       "version_minor": 0
      },
      "text/plain": [
       "Testing: 0it [00:00, ?it/s]"
      ]
     },
     "metadata": {},
     "output_type": "display_data"
    },
    {
     "name": "stdout",
     "output_type": "stream",
     "text": [
      "--------------------------------------------------------------------------------\n",
      "DATALOADER:0 TEST RESULTS\n",
      "{'median_position_error': 0.4908968210220337,\n",
      " 'median_rotation_error': 16.67397117614746,\n",
      " 'position_error': 0.5024413466453552,\n",
      " 'rotation_error': 20.48438262939453,\n",
      " 'test_loss': -4.1197333335876465}\n",
      "--------------------------------------------------------------------------------\n"
     ]
    },
    {
     "data": {
      "text/plain": [
       "[{'test_loss': -4.1197333335876465,\n",
       "  'position_error': 0.5024413466453552,\n",
       "  'rotation_error': 20.48438262939453,\n",
       "  'median_position_error': 0.4908968210220337,\n",
       "  'median_rotation_error': 16.67397117614746}]"
      ]
     },
     "execution_count": 10,
     "metadata": {},
     "output_type": "execute_result"
    },
    {
     "data": {
      "image/png": "[encoded data removed]",
      "text/plain": [
       "<Figure size 432x288 with 1 Axes>"
      ]
     },
     "metadata": {
      "needs_background": "light"
     },
     "output_type": "display_data"
    }
   ],
   "source": [
    "trainer.test(model, data_module.test_dataloader())"
   ]
  },
  {
   "cell_type": "code",
   "execution_count": 11,
   "id": "1cf5c72a",
   "metadata": {},
   "outputs": [],
   "source": [
    "truth_position = model._data_saver[\"truth_position\"]\n",
    "predicted_position = model._data_saver[\"predicted_position\"]"
   ]
  },
  {
   "cell_type": "code",
   "execution_count": 12,
   "id": "d6c5057e",
   "metadata": {},
   "outputs": [],
   "source": [
    "Logger.current_logger().report_scatter3d(title=\"trajectory\", series=\"truth_positions\", iteration=1, \n",
    "                                         scatter=truth_position,\n",
    "     xaxis=\"x\", yaxis=\"y\", zaxis=\"z\", mode=\"lines\")\n",
    "Logger.current_logger().report_scatter3d(title=\"trajectory\", series=\"predicted_position\", iteration=1, \n",
    "                                         scatter=predicted_position,\n",
    "     xaxis=\"x\", yaxis=\"y\", zaxis=\"z\", mode=\"lines\")"
   ]
  },
  {
   "cell_type": "code",
   "execution_count": 13,
   "id": "ba1c9c84",
   "metadata": {},
   "outputs": [
    {
     "name": "stdout",
     "output_type": "stream",
     "text": [
      "2021-09-01 16:02:47,888 - clearml.Task - INFO - Waiting to finish uploads\n"
     ]
    },
    {
     "name": "stderr",
     "output_type": "stream",
     "text": [
      "/usr/local/lib/python3.9/dist-packages/nbconvert/exporters/html.py:135: DeprecationWarning:\n",
      "\n",
      "'jinja2.Markup' is deprecated and will be removed in Jinja 3.1. Import 'markupsafe.Markup' instead.\n",
      "\n",
      "/usr/local/lib/python3.9/dist-packages/nbconvert/exporters/html.py:135: DeprecationWarning:\n",
      "\n",
      "'jinja2.Markup' is deprecated and will be removed in Jinja 3.1. Import 'markupsafe.Markup' instead.\n",
      "\n",
      "/usr/local/lib/python3.9/dist-packages/nbconvert/filters/ansi.py:60: DeprecationWarning:\n",
      "\n",
      "'jinja2.escape' is deprecated and will be removed in Jinja 3.1. Import 'markupsafe.escape' instead.\n",
      "\n",
      "/usr/local/lib/python3.9/dist-packages/nbconvert/filters/ansi.py:60: DeprecationWarning:\n",
      "\n",
      "'jinja2.escape' is deprecated and will be removed in Jinja 3.1. Import 'markupsafe.escape' instead.\n",
      "\n",
      "/usr/local/lib/python3.9/dist-packages/nbconvert/filters/ansi.py:60: DeprecationWarning:\n",
      "\n",
      "'jinja2.escape' is deprecated and will be removed in Jinja 3.1. Import 'markupsafe.escape' instead.\n",
      "\n",
      "/usr/local/lib/python3.9/dist-packages/nbconvert/filters/ansi.py:60: DeprecationWarning:\n",
      "\n",
      "'jinja2.escape' is deprecated and will be removed in Jinja 3.1. Import 'markupsafe.escape' instead.\n",
      "\n",
      "/usr/local/lib/python3.9/dist-packages/nbconvert/filters/ansi.py:60: DeprecationWarning:\n",
      "\n",
      "'jinja2.escape' is deprecated and will be removed in Jinja 3.1. Import 'markupsafe.escape' instead.\n",
      "\n",
      "/usr/local/lib/python3.9/dist-packages/nbconvert/filters/ansi.py:60: DeprecationWarning:\n",
      "\n",
      "'jinja2.escape' is deprecated and will be removed in Jinja 3.1. Import 'markupsafe.escape' instead.\n",
      "\n",
      "/usr/local/lib/python3.9/dist-packages/nbconvert/filters/ansi.py:60: DeprecationWarning:\n",
      "\n",
      "'jinja2.escape' is deprecated and will be removed in Jinja 3.1. Import 'markupsafe.escape' instead.\n",
      "\n",
      "/usr/local/lib/python3.9/dist-packages/nbconvert/filters/ansi.py:60: DeprecationWarning:\n",
      "\n",
      "'jinja2.escape' is deprecated and will be removed in Jinja 3.1. Import 'markupsafe.escape' instead.\n",
      "\n",
      "/usr/local/lib/python3.9/dist-packages/nbconvert/filters/ansi.py:60: DeprecationWarning:\n",
      "\n",
      "'jinja2.escape' is deprecated and will be removed in Jinja 3.1. Import 'markupsafe.escape' instead.\n",
      "\n",
      "/usr/local/lib/python3.9/dist-packages/nbconvert/filters/ansi.py:60: DeprecationWarning:\n",
      "\n",
      "'jinja2.escape' is deprecated and will be removed in Jinja 3.1. Import 'markupsafe.escape' instead.\n",
      "\n",
      "/usr/local/lib/python3.9/dist-packages/nbconvert/filters/ansi.py:60: DeprecationWarning:\n",
      "\n",
      "'jinja2.escape' is deprecated and will be removed in Jinja 3.1. Import 'markupsafe.escape' instead.\n",
      "\n"
     ]
    },
    {
     "name": "stdout",
     "output_type": "stream",
     "text": [
      "2021-09-01 16:02:53,204 - clearml.Task - INFO - Finished uploading\n"
     ]
    }
   ],
   "source": [
    "task.close()"
   ]
  }
 ],
 "metadata": {
  "kernelspec": {
   "display_name": "Python 3 (ipykernel)",
   "language": "python",
   "name": "python3"
  },
  "language_info": {
   "codemirror_mode": {
    "name": "ipython",
    "version": 3
   },
   "file_extension": ".py",
   "mimetype": "text/x-python",
   "name": "python",
   "nbconvert_exporter": "python",
   "pygments_lexer": "ipython3",
   "version": "3.9.5"
  }
 },
 "nbformat": 4,
 "nbformat_minor": 5
}
