{
 "cells": [
  {
   "cell_type": "code",
   "execution_count": 1,
   "id": "9f828014",
   "metadata": {},
   "outputs": [],
   "source": [
    "PYTHON_PATHS = [\"..\"]\n",
    "import sys\n",
    "for path in PYTHON_PATHS:\n",
    "    if path not in sys.path:\n",
    "        sys.path.append(path)\n",
    "import pytorch_lightning as pl\n",
    "import os\n",
    "from pytorch_lightning.utilities.parsing import AttributeDict\n",
    "from pytorch_lightning.loggers import TensorBoardLogger"
   ]
  },
  {
   "cell_type": "code",
   "execution_count": 2,
   "id": "38022fd3",
   "metadata": {},
   "outputs": [],
   "source": [
    "import warnings\n",
    "warnings.filterwarnings('ignore')\n",
    "warnings.simplefilter('ignore')"
   ]
  },
  {
   "cell_type": "code",
   "execution_count": 3,
   "id": "dd5fc8be",
   "metadata": {},
   "outputs": [],
   "source": [
    "from lieposenet.utils.universal_factory import UniversalFactory\n",
    "from lieposenet.models.pose_net import PoseNet\n",
    "from lieposenet.criterions.pose_net_criterion import PoseNetCriterion\n",
    "from lieposenet.criterions.se3_criterion import SE3Criterion\n",
    "from lieposenet.data import SevenScenesDataModule\n",
    "\n",
    "factory = UniversalFactory([PoseNet, PoseNetCriterion, SE3Criterion])"
   ]
  },
  {
   "cell_type": "code",
   "execution_count": 4,
   "id": "e0a6e03d",
   "metadata": {},
   "outputs": [
    {
     "name": "stderr",
     "output_type": "stream",
     "text": [
      "/usr/local/lib/python3.9/dist-packages/clearml/backend_interface/task/models.py:38: DeprecationWarning: Flags not at the start of the expression '((?i)(Using model id' (truncated)\n",
      "  _input_models_re = re.compile(r\"((?i)(Using model id: )(\\w+)?)\")\n"
     ]
    }
   ],
   "source": [
    "from clearml import Task"
   ]
  },
  {
   "cell_type": "code",
   "execution_count": 5,
   "id": "f4719baa",
   "metadata": {},
   "outputs": [
    {
     "name": "stdout",
     "output_type": "stream",
     "text": [
      "ClearML Task: created new task id=9207db82732c40e89f30969d61ec3a64\n"
     ]
    },
    {
     "name": "stderr",
     "output_type": "stream",
     "text": [
      "/usr/local/lib/python3.9/dist-packages/nbconvert/exporters/html.py:110: DeprecationWarning:\n",
      "\n",
      "'contextfilter' is renamed to 'pass_context', the old name will be removed in Jinja 3.1.\n",
      "\n"
     ]
    },
    {
     "name": "stdout",
     "output_type": "stream",
     "text": [
      "======> WARNING! Git diff to large to store (5319kb), skipping uncommitted changes <======\n",
      "ClearML new version available: upgrade to v1.0.5 is recommended!\n",
      "ClearML results page: https://app.community.clear.ml/projects/04b664f021694b21aadb7a6f50ab46f1/experiments/9207db82732c40e89f30969d61ec3a64/output/log\n"
     ]
    },
    {
     "name": "stderr",
     "output_type": "stream",
     "text": [
      "/usr/local/lib/python3.9/dist-packages/IPython/core/inputsplitter.py:21: DeprecationWarning:\n",
      "\n",
      "IPython.core.inputsplitter is deprecated since IPython 7 in favor of `IPython.core.inputtransformer2`\n",
      "\n"
     ]
    }
   ],
   "source": [
    "task = Task.init(project_name=\"lie-pose-net\", task_name=\"lie-pose-net on local machine\")"
   ]
  },
  {
   "cell_type": "markdown",
   "id": "c167116e",
   "metadata": {},
   "source": [
    "# Load datamodule"
   ]
  },
  {
   "cell_type": "code",
   "execution_count": 6,
   "id": "fb8ceaaf",
   "metadata": {},
   "outputs": [
    {
     "name": "stdout",
     "output_type": "stream",
     "text": [
      "[ToyDataModule] - train subset size 2000\n",
      "[ToyDataModule] - validation dataset size 2000\n"
     ]
    }
   ],
   "source": [
    "data_module_params = {\n",
    "    \"batch_size\": 64,\n",
    "    \"use_test\": True,\n",
    "    \"num_workers\": 4,\n",
    "    \"image_size\": 256,\n",
    "    \"scene\": \"fire\",\n",
    "    \"data_path\": \"/media/mikhail/Data3T/7scenes\"\n",
    "}\n",
    "task.connect(data_module_params)\n",
    "scene = data_module_params[\"scene\"]\n",
    "data_module = SevenScenesDataModule(**data_module_params)"
   ]
  },
  {
   "cell_type": "markdown",
   "id": "66c91851",
   "metadata": {},
   "source": [
    "# Model"
   ]
  },
  {
   "cell_type": "code",
   "execution_count": null,
   "id": "5ff6f2dd",
   "metadata": {},
   "outputs": [
    {
     "name": "stderr",
     "output_type": "stream",
     "text": [
      "/usr/local/lib/python3.9/dist-packages/nbconvert/exporters/html.py:135: DeprecationWarning:\n",
      "\n",
      "'jinja2.Markup' is deprecated and will be removed in Jinja 3.1. Import 'markupsafe.Markup' instead.\n",
      "\n",
      "/usr/local/lib/python3.9/dist-packages/nbconvert/exporters/html.py:135: DeprecationWarning:\n",
      "\n",
      "'jinja2.Markup' is deprecated and will be removed in Jinja 3.1. Import 'markupsafe.Markup' instead.\n",
      "\n",
      "/usr/local/lib/python3.9/dist-packages/nbconvert/filters/ansi.py:60: DeprecationWarning:\n",
      "\n",
      "'jinja2.escape' is deprecated and will be removed in Jinja 3.1. Import 'markupsafe.escape' instead.\n",
      "\n",
      "/usr/local/lib/python3.9/dist-packages/nbconvert/filters/ansi.py:60: DeprecationWarning:\n",
      "\n",
      "'jinja2.escape' is deprecated and will be removed in Jinja 3.1. Import 'markupsafe.escape' instead.\n",
      "\n",
      "/usr/local/lib/python3.9/dist-packages/nbconvert/filters/ansi.py:60: DeprecationWarning:\n",
      "\n",
      "'jinja2.escape' is deprecated and will be removed in Jinja 3.1. Import 'markupsafe.escape' instead.\n",
      "\n",
      "/usr/local/lib/python3.9/dist-packages/nbconvert/filters/ansi.py:60: DeprecationWarning:\n",
      "\n",
      "'jinja2.escape' is deprecated and will be removed in Jinja 3.1. Import 'markupsafe.escape' instead.\n",
      "\n",
      "/usr/local/lib/python3.9/dist-packages/nbconvert/filters/ansi.py:60: DeprecationWarning:\n",
      "\n",
      "'jinja2.escape' is deprecated and will be removed in Jinja 3.1. Import 'markupsafe.escape' instead.\n",
      "\n",
      "/usr/local/lib/python3.9/dist-packages/nbconvert/filters/ansi.py:60: DeprecationWarning:\n",
      "\n",
      "'jinja2.escape' is deprecated and will be removed in Jinja 3.1. Import 'markupsafe.escape' instead.\n",
      "\n",
      "/usr/local/lib/python3.9/dist-packages/nbconvert/filters/ansi.py:60: DeprecationWarning:\n",
      "\n",
      "'jinja2.escape' is deprecated and will be removed in Jinja 3.1. Import 'markupsafe.escape' instead.\n",
      "\n",
      "/usr/local/lib/python3.9/dist-packages/nbconvert/filters/ansi.py:60: DeprecationWarning:\n",
      "\n",
      "'jinja2.escape' is deprecated and will be removed in Jinja 3.1. Import 'markupsafe.escape' instead.\n",
      "\n",
      "/usr/local/lib/python3.9/dist-packages/nbconvert/filters/ansi.py:60: DeprecationWarning:\n",
      "\n",
      "'jinja2.escape' is deprecated and will be removed in Jinja 3.1. Import 'markupsafe.escape' instead.\n",
      "\n",
      "/usr/local/lib/python3.9/dist-packages/nbconvert/filters/ansi.py:60: DeprecationWarning:\n",
      "\n",
      "'jinja2.escape' is deprecated and will be removed in Jinja 3.1. Import 'markupsafe.escape' instead.\n",
      "\n",
      "/usr/local/lib/python3.9/dist-packages/nbconvert/filters/ansi.py:60: DeprecationWarning:\n",
      "\n",
      "'jinja2.escape' is deprecated and will be removed in Jinja 3.1. Import 'markupsafe.escape' instead.\n",
      "\n",
      "/usr/local/lib/python3.9/dist-packages/nbconvert/filters/ansi.py:60: DeprecationWarning:\n",
      "\n",
      "'jinja2.escape' is deprecated and will be removed in Jinja 3.1. Import 'markupsafe.escape' instead.\n",
      "\n",
      "/usr/local/lib/python3.9/dist-packages/nbconvert/filters/ansi.py:60: DeprecationWarning:\n",
      "\n",
      "'jinja2.escape' is deprecated and will be removed in Jinja 3.1. Import 'markupsafe.escape' instead.\n",
      "\n",
      "/usr/local/lib/python3.9/dist-packages/nbconvert/filters/ansi.py:60: DeprecationWarning:\n",
      "\n",
      "'jinja2.escape' is deprecated and will be removed in Jinja 3.1. Import 'markupsafe.escape' instead.\n",
      "\n",
      "/usr/local/lib/python3.9/dist-packages/nbconvert/filters/ansi.py:60: DeprecationWarning:\n",
      "\n",
      "'jinja2.escape' is deprecated and will be removed in Jinja 3.1. Import 'markupsafe.escape' instead.\n",
      "\n",
      "/usr/local/lib/python3.9/dist-packages/nbconvert/filters/ansi.py:60: DeprecationWarning:\n",
      "\n",
      "'jinja2.escape' is deprecated and will be removed in Jinja 3.1. Import 'markupsafe.escape' instead.\n",
      "\n",
      "/usr/local/lib/python3.9/dist-packages/nbconvert/filters/ansi.py:60: DeprecationWarning:\n",
      "\n",
      "'jinja2.escape' is deprecated and will be removed in Jinja 3.1. Import 'markupsafe.escape' instead.\n",
      "\n",
      "/usr/local/lib/python3.9/dist-packages/nbconvert/filters/ansi.py:60: DeprecationWarning:\n",
      "\n",
      "'jinja2.escape' is deprecated and will be removed in Jinja 3.1. Import 'markupsafe.escape' instead.\n",
      "\n",
      "/usr/local/lib/python3.9/dist-packages/nbconvert/filters/ansi.py:60: DeprecationWarning:\n",
      "\n",
      "'jinja2.escape' is deprecated and will be removed in Jinja 3.1. Import 'markupsafe.escape' instead.\n",
      "\n",
      "/usr/local/lib/python3.9/dist-packages/nbconvert/filters/ansi.py:60: DeprecationWarning:\n",
      "\n",
      "'jinja2.escape' is deprecated and will be removed in Jinja 3.1. Import 'markupsafe.escape' instead.\n",
      "\n",
      "/usr/local/lib/python3.9/dist-packages/nbconvert/filters/ansi.py:60: DeprecationWarning:\n",
      "\n",
      "'jinja2.escape' is deprecated and will be removed in Jinja 3.1. Import 'markupsafe.escape' instead.\n",
      "\n",
      "/usr/local/lib/python3.9/dist-packages/nbconvert/filters/ansi.py:60: DeprecationWarning:\n",
      "\n",
      "'jinja2.escape' is deprecated and will be removed in Jinja 3.1. Import 'markupsafe.escape' instead.\n",
      "\n",
      "/usr/local/lib/python3.9/dist-packages/nbconvert/filters/ansi.py:60: DeprecationWarning:\n",
      "\n",
      "'jinja2.escape' is deprecated and will be removed in Jinja 3.1. Import 'markupsafe.escape' instead.\n",
      "\n",
      "/usr/local/lib/python3.9/dist-packages/nbconvert/filters/ansi.py:60: DeprecationWarning:\n",
      "\n",
      "'jinja2.escape' is deprecated and will be removed in Jinja 3.1. Import 'markupsafe.escape' instead.\n",
      "\n",
      "/usr/local/lib/python3.9/dist-packages/nbconvert/filters/ansi.py:60: DeprecationWarning:\n",
      "\n",
      "'jinja2.escape' is deprecated and will be removed in Jinja 3.1. Import 'markupsafe.escape' instead.\n",
      "\n",
      "/usr/local/lib/python3.9/dist-packages/nbconvert/filters/ansi.py:60: DeprecationWarning:\n",
      "\n",
      "'jinja2.escape' is deprecated and will be removed in Jinja 3.1. Import 'markupsafe.escape' instead.\n",
      "\n",
      "/usr/local/lib/python3.9/dist-packages/nbconvert/filters/ansi.py:60: DeprecationWarning:\n",
      "\n",
      "'jinja2.escape' is deprecated and will be removed in Jinja 3.1. Import 'markupsafe.escape' instead.\n",
      "\n",
      "/usr/local/lib/python3.9/dist-packages/nbconvert/filters/ansi.py:60: DeprecationWarning:\n",
      "\n",
      "'jinja2.escape' is deprecated and will be removed in Jinja 3.1. Import 'markupsafe.escape' instead.\n",
      "\n",
      "/usr/local/lib/python3.9/dist-packages/nbconvert/filters/ansi.py:60: DeprecationWarning:\n",
      "\n",
      "'jinja2.escape' is deprecated and will be removed in Jinja 3.1. Import 'markupsafe.escape' instead.\n",
      "\n",
      "/usr/local/lib/python3.9/dist-packages/nbconvert/filters/ansi.py:60: DeprecationWarning:\n",
      "\n",
      "'jinja2.escape' is deprecated and will be removed in Jinja 3.1. Import 'markupsafe.escape' instead.\n",
      "\n",
      "/usr/local/lib/python3.9/dist-packages/nbconvert/filters/ansi.py:60: DeprecationWarning:\n",
      "\n",
      "'jinja2.escape' is deprecated and will be removed in Jinja 3.1. Import 'markupsafe.escape' instead.\n",
      "\n"
     ]
    },
    {
     "name": "stdout",
     "output_type": "stream",
     "text": [
      "2021-09-01 15:44:36,573 - clearml.model - INFO - Selected model id: a22c91c76a0f4ef791b13c6d45497aa2\n"
     ]
    }
   ],
   "source": [
    "model_params =  AttributeDict(**{\n",
    "    \"name\": \"PoseNet\",\n",
    "    \"feature_extractor\": AttributeDict(\n",
    "        pretrained=True\n",
    "    ),\n",
    "    \"criterion\": {\n",
    "        \"name\": \"SE3Criterion\",\n",
    "        \"rotation_koef\": -3.0,\n",
    "        \"translation_koef\": -3.0,\n",
    "    },\n",
    "    \"feature_dimension\": 2048,\n",
    "    \"drop_rate\": 0,\n",
    "    \"optimizer\": AttributeDict(\n",
    "        betas=\"0.9 0.999\",\n",
    "        lr=0.0001,\n",
    "        weight_decay=0.0005,\n",
    "    ),\n",
    "    \"scheduler\": {\n",
    "        \"step_size\": 20,\n",
    "        \"gamma\": 0.5,\n",
    "    },\n",
    "    \"bias\": True,\n",
    "    \"activation\": \"tanh\",\n",
    "    \"pretrained\": True\n",
    "})\n",
    "task.connect(model_params)\n",
    "model = factory.make_from_parameters(model_params)"
   ]
  },
  {
   "cell_type": "markdown",
   "id": "4ad224ce",
   "metadata": {},
   "source": [
    "# Train"
   ]
  },
  {
   "cell_type": "code",
   "execution_count": null,
   "id": "b9710f26",
   "metadata": {},
   "outputs": [],
   "source": [
    "logger_path = os.path.join(os.path.dirname(task.cache_dir), \"lightning_logs\", \"lieposenet\")\n",
    "# logger_path = 'lightning_logs'\n",
    "trainer_params = {\n",
    "    \"max_epochs\": 10,\n",
    "    \"checkpoint_every_n_val_epochs\": 10,\n",
    "    \"gpus\": 1,\n",
    "    \"check_val_every_n_epoch\": 2\n",
    "}\n",
    "task.connect(trainer_params)\n",
    "model_checkpoint = pl.callbacks.ModelCheckpoint(monitor='val_loss',\n",
    "    every_n_val_epochs=trainer_params[\"checkpoint_every_n_val_epochs\"])\n",
    "trainer = factory.kwargs_function(pl.Trainer)(\n",
    "    logger=TensorBoardLogger(logger_path, name=SCENE),\n",
    "    callbacks=[model_checkpoint],\n",
    "    **trainer_params\n",
    ")"
   ]
  },
  {
   "cell_type": "code",
   "execution_count": null,
   "id": "9e0cfb79",
   "metadata": {},
   "outputs": [],
   "source": [
    "trainer.fit(model, data_module)"
   ]
  },
  {
   "cell_type": "code",
   "execution_count": null,
   "id": "f5fd3ded",
   "metadata": {},
   "outputs": [],
   "source": [
    "trainer.test(model, data_module.test_dataloader())"
   ]
  },
  {
   "cell_type": "code",
   "execution_count": null,
   "id": "01a0b4a0",
   "metadata": {},
   "outputs": [],
   "source": [
    "task.close()"
   ]
  },
  {
   "cell_type": "code",
   "execution_count": null,
   "id": "c44ee681",
   "metadata": {},
   "outputs": [],
   "source": []
  }
 ],
 "metadata": {
  "kernelspec": {
   "display_name": "Python 3 (ipykernel)",
   "language": "python",
   "name": "python3"
  },
  "language_info": {
   "codemirror_mode": {
    "name": "ipython",
    "version": 3
   },
   "file_extension": ".py",
   "mimetype": "text/x-python",
   "name": "python",
   "nbconvert_exporter": "python",
   "pygments_lexer": "ipython3",
   "version": "3.9.5"
  }
 },
 "nbformat": 4,
 "nbformat_minor": 5
}
